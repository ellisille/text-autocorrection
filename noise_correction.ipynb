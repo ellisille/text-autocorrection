{
  "nbformat": 4,
  "nbformat_minor": 0,
  "metadata": {
    "colab": {
      "name": "noise_correction.ipynb",
      "provenance": [],
      "collapsed_sections": [],
      "toc_visible": true
    },
    "kernelspec": {
      "name": "python3",
      "display_name": "Python 3"
    },
    "language_info": {
      "name": "python"
    }
  },
  "cells": [
    {
      "cell_type": "markdown",
      "metadata": {
        "id": "_J1UmA9RXiE4"
      },
      "source": [
        "# Reading in the data"
      ]
    },
    {
      "cell_type": "code",
      "metadata": {
        "colab": {
          "base_uri": "https://localhost:8080/"
        },
        "id": "McPP3AYeRxY3",
        "outputId": "7bd10a5e-51e9-45b5-9a82-f30f0dab9565"
      },
      "source": [
        "import os\n",
        "from google.colab import drive\n",
        "\n",
        "drive.mount('/content/drive')\n",
        "os.chdir(\"/content/drive/My Drive/\")"
      ],
      "execution_count": null,
      "outputs": [
        {
          "output_type": "stream",
          "text": [
            "Mounted at /content/drive\n"
          ],
          "name": "stdout"
        }
      ]
    },
    {
      "cell_type": "code",
      "metadata": {
        "id": "c7k6SFFCWo3M"
      },
      "source": [
        "import csv\n",
        "\n",
        "sample901 = []\n",
        "\n",
        "with open('s901_corr.csv') as csv_file:\n",
        "    csv_reader = csv.reader(csv_file, delimiter=',')\n",
        "    for row in csv_reader:\n",
        "      sample901.append(row)"
      ],
      "execution_count": null,
      "outputs": []
    },
    {
      "cell_type": "code",
      "metadata": {
        "colab": {
          "base_uri": "https://localhost:8080/"
        },
        "id": "2MRf3pzg_FWL",
        "outputId": "39c9d8f4-c53e-428c-ff1c-831c7eede333"
      },
      "source": [
        "len(sample901)"
      ],
      "execution_count": null,
      "outputs": [
        {
          "output_type": "execute_result",
          "data": {
            "text/plain": [
              "15058"
            ]
          },
          "metadata": {
            "tags": []
          },
          "execution_count": 32
        }
      ]
    },
    {
      "cell_type": "code",
      "metadata": {
        "id": "vkLjC_oBWS8N"
      },
      "source": [
        "col_names = ['uuid', 'origin_id', 'description', 'rasul_cleaned_description', 'hs_code', 'cleaned_description', 'noised_description']"
      ],
      "execution_count": null,
      "outputs": []
    },
    {
      "cell_type": "code",
      "metadata": {
        "colab": {
          "base_uri": "https://localhost:8080/"
        },
        "id": "W8MzJmGyaG7r",
        "outputId": "930692fb-05f8-422d-edff-ccd1114483d3"
      },
      "source": [
        "print(len(sample901), \"rows imported\")\n",
        "sample901[0]"
      ],
      "execution_count": null,
      "outputs": [
        {
          "output_type": "stream",
          "text": [
            "15058 rows imported\n"
          ],
          "name": "stdout"
        },
        {
          "output_type": "execute_result",
          "data": {
            "text/plain": [
              "['890abe46-f7a3-4054-b88e-88f1a1b153e7',\n",
              " '1985872',\n",
              " 'CERAMIC HARDWARE :   40MM PORCELAIN FLOW ER KNOB WHITE MOTIF BLACK',\n",
              " 'ceramic hardware porcelain flower knob white motif black',\n",
              " '6914100000',\n",
              " 'ceramic hardware mm porcelain flow er knob white motif black',\n",
              " 'ceramic hardwear mm porcelian flow r knob wite motif blak']"
            ]
          },
          "metadata": {
            "tags": []
          },
          "execution_count": 3
        }
      ]
    },
    {
      "cell_type": "markdown",
      "metadata": {
        "id": "ysis7mZ4buA_"
      },
      "source": [
        "#Dividing train, dev, test set\n",
        "Will use 60%, 20%, 20% split."
      ]
    },
    {
      "cell_type": "code",
      "metadata": {
        "id": "5d6X5AspajGX"
      },
      "source": [
        "split1 = int(0.6 * len(sample901))\n",
        "split2 = int(0.8 * len(sample901))\n",
        "\n",
        "import random\n",
        "random.seed(0)\n",
        "random.shuffle(sample901)\n",
        "\n",
        "train901 = sample901[:split1]\n",
        "dev901 = sample901[split1:split2]\n",
        "test901 = sample901[split2:]"
      ],
      "execution_count": null,
      "outputs": []
    },
    {
      "cell_type": "code",
      "metadata": {
        "colab": {
          "base_uri": "https://localhost:8080/"
        },
        "id": "1gdOVzDia_Fc",
        "outputId": "a1eeb85e-9581-4aae-8377-4b43f3bdea54"
      },
      "source": [
        "print(len(train901),\"rows in train\")\n",
        "print(len(dev901),\"rows in dev\")\n",
        "print(len(test901),\"rows in test\")\n",
        "train901[0]"
      ],
      "execution_count": null,
      "outputs": [
        {
          "output_type": "stream",
          "text": [
            "1276078 rows in train\n",
            "425360 rows in dev\n",
            "425360 rows in test\n"
          ],
          "name": "stdout"
        },
        {
          "output_type": "execute_result",
          "data": {
            "text/plain": [
              "['a68d46ce-7d18-473b-94ea-d8e893c2c1bc',\n",
              " '546647',\n",
              " '100% COTTON WOVEN MENS COAT',\n",
              " 'cottonwoven mens coat',\n",
              " '6201190000',\n",
              " 'cotton woven mens coat',\n",
              " 'cotten wvoen mens oat']"
            ]
          },
          "metadata": {
            "tags": []
          },
          "execution_count": 22
        }
      ]
    },
    {
      "cell_type": "markdown",
      "metadata": {
        "id": "ZRpfM5aDbruo"
      },
      "source": [
        "#Preprocessing\n",
        "\n",
        "When preprocessing the description, we will\n",
        "* lowercase\n",
        "* remove special characters, leaving only standard latin letters\n",
        "* uniform whitespace"
      ]
    },
    {
      "cell_type": "code",
      "metadata": {
        "colab": {
          "base_uri": "https://localhost:8080/"
        },
        "id": "o7C2zCKMbs4k",
        "outputId": "07b96e91-8048-4031-fe0d-ab3519956cf2"
      },
      "source": [
        "def preprocess(description):\n",
        "  #Lowercase\n",
        "  preprocessed_description = description.lower()\n",
        "\n",
        "  #Replace lowercase characters with whitespace\n",
        "  chars = ['a','b','c','d','e','f','g','h','i','j','k','l','m',\n",
        "           'n','o','p','q','r','s','t','u','v','w','x','y','z',]\n",
        "\n",
        "  clean = ''\n",
        "  for char in preprocessed_description:\n",
        "    if char not in chars:\n",
        "      clean += ' '\n",
        "    else:\n",
        "      clean += char\n",
        "\n",
        "  #Correct whitespace\n",
        "  return \" \".join(clean.split())\n",
        "\n",
        "#Example\n",
        "print(preprocess('FURNITURE (ALUMINIUM) - Alu/Iron Tripod Rd Table'))\n",
        "print(preprocess('READYMADE GARMENTS BOYS INFANT F/S SUIT 100% COTTON STYLE NO. 41156 SIZE 0 TO 24 MONTS (PURPLE CEATION GSTIN 27AAAC'))"
      ],
      "execution_count": null,
      "outputs": [
        {
          "output_type": "stream",
          "text": [
            "furniture aluminium alu iron tripod rd table\n",
            "readymade garments boys infant f s suit cotton style no size to monts purple ceation gstin aaac\n"
          ],
          "name": "stdout"
        }
      ]
    },
    {
      "cell_type": "markdown",
      "metadata": {
        "id": "NGthmKecfEgn"
      },
      "source": [
        "# Noising"
      ]
    },
    {
      "cell_type": "code",
      "metadata": {
        "id": "KJFpi9E2fD72"
      },
      "source": [
        "import numpy as np\n",
        "\n",
        "letters = ['a','b','c','d','e','f','g','h','i','j','k','l','m',\n",
        "           'n','o','p','q','r','s','t','u','v','w','x','y','z',]\n",
        "\n",
        "def introduce_simple_noise(rows, threshold=0.9):\n",
        "    noisy_rows = []\n",
        "    for row in rows:\n",
        "        noisy_sentence = []\n",
        "        i = 0\n",
        "        sentence = row[2]\n",
        "        while i < len(sentence):\n",
        "            random = np.random.uniform(0,1,1)\n",
        "            if random < threshold:\n",
        "                noisy_sentence.append(sentence[i])\n",
        "            else:\n",
        "                new_random = np.random.uniform(0,1,1)\n",
        "                if new_random > 0.67:\n",
        "                    if i == (len(sentence) - 1):\n",
        "                        continue\n",
        "                    else:\n",
        "                        noisy_sentence.append(sentence[i+1])\n",
        "                        noisy_sentence.append(sentence[i])\n",
        "                        i += 1\n",
        "                elif new_random < 0.33:\n",
        "                    random_letter = np.random.choice(letters, 1)[0]\n",
        "                    noisy_sentence.append(random_letter)\n",
        "                    noisy_sentence.append(sentence[i])\n",
        "                else:\n",
        "                    pass     \n",
        "            i += 1\n",
        "        noisy_rows.append(\"\".join(noisy_sentence))\n",
        "        \n",
        "    return noisy_rows"
      ],
      "execution_count": null,
      "outputs": []
    },
    {
      "cell_type": "code",
      "metadata": {
        "colab": {
          "base_uri": "https://localhost:8080/"
        },
        "id": "F75MmaQXfJ9k",
        "outputId": "1b8e41f7-d5ce-4725-9558-f57e16f50418"
      },
      "source": [
        "#Function introduces deletion typos into descriptions. Number of typos is adjusted by frequency parameter.\n",
        "def noise_deletion(description, frequency = 1):\n",
        "  for i in range(frequency):\n",
        "    desc_length = len(description)\n",
        "    try:\n",
        "      delete_index = random.randrange(0,desc_length) #selects which character to delete\n",
        "      description = description[:delete_index] + description[delete_index+1:]\n",
        "    except:\n",
        "      return description\n",
        "  return description\n",
        "\n",
        "#Example\n",
        "print(noise_deletion('furniture aluminium alu iron tripod rd table'))\n",
        "print(noise_deletion('furniture aluminium alu iron tripod rd table',3))"
      ],
      "execution_count": null,
      "outputs": [
        {
          "output_type": "stream",
          "text": [
            "furniture aluminium alu iron tripod rd table\n",
            "furniture aluminium alu iron tripod rd table\n"
          ],
          "name": "stdout"
        }
      ]
    },
    {
      "cell_type": "code",
      "metadata": {
        "colab": {
          "base_uri": "https://localhost:8080/"
        },
        "id": "5k9woi4chRdi",
        "outputId": "5f6c45cb-65c2-4a18-8ef1-6c69513a96aa"
      },
      "source": [
        "#Function introduces typos of switching letters. Number of switches is adjusted by frequency parameter.\n",
        "def noise_switch(description, frequency = 1):\n",
        "  desc_length = len(description)\n",
        "  for i in range(frequency):\n",
        "    try:\n",
        "      switch_index = random.randrange(0,desc_length-1) #selects which character to switch with the next\n",
        "      description = description[:switch_index] + description[switch_index+1] + description[switch_index] + description[switch_index+2:]\n",
        "    except:\n",
        "      return description\n",
        "  return description\n",
        "\n",
        "#Example\n",
        "print(noise_switch('furniture aluminium alu iron tripod rd table'))\n",
        "print(noise_switch('furniture aluminium alu iron tripod rd table',3))"
      ],
      "execution_count": null,
      "outputs": [
        {
          "output_type": "stream",
          "text": [
            "furniture aluminium alu iron tripod rd table\n",
            "furniture aluminium alu iron tripod rd table\n"
          ],
          "name": "stdout"
        }
      ]
    },
    {
      "cell_type": "code",
      "metadata": {
        "colab": {
          "base_uri": "https://localhost:8080/"
        },
        "id": "OrpE99t9i06c",
        "outputId": "33039a68-f0d8-47af-aa09-e3dd728a0b44"
      },
      "source": [
        "#Kaggle dataset for commonly misspelt words.\n",
        "#https://www.kaggle.com/bittlingmayer/spelling?select=birkbeck.txt\n",
        "import random\n",
        "kaggle_misspell = {}\n",
        "\n",
        "with open('birkbeck.txt') as csv_file:\n",
        "    csv_reader = csv.reader(csv_file, delimiter=':')\n",
        "    for row in csv_reader:\n",
        "      kaggle_misspell[row[0]] = row[1:][0].split()\n",
        "\n",
        "#Function finds and replaces words in the description with misspelled words from Kaggle.\n",
        "#All words present are switched. If many misspellings exist, then one misspelling is selected by random.\n",
        "def noise_kaggle(description, frequency = None):\n",
        "  og_words = description.split()\n",
        "  words = description.lower().split()\n",
        "  if frequency == None:\n",
        "    for i, word in enumerate(words):\n",
        "      if word in kaggle_misspell:\n",
        "        og_words[i] = random.choice(kaggle_misspell[word])\n",
        "  else:\n",
        "    kaggle_indexes = random.sample(range(len(og_words)), k=frequency)\n",
        "    for i, word in enumerate(words):\n",
        "      if i in kaggle_indexes and word in kaggle_misspell:\n",
        "        og_words[i] = random.choice(kaggle_misspell[word])\n",
        "  return \" \".join(og_words)\n",
        "\n",
        "#Example\n",
        "print(noise_kaggle('FURNITURE (ALUMINIUM) - Alu/Iron Tripod Rd Table'))\n",
        "print(noise_kaggle('FURNITURE (ALUMINIUM) - Alu/Iron Tripod Rd Table'))\n",
        "print(noise_kaggle('FURNITURE (ALUMINIUM) - Alu/Iron Tripod Rd Table'))\n",
        "print(noise_kaggle('FURNITURE (ALUMINIUM) - Alu/Iron Tripod Rd Table'))\n",
        "print(noise_kaggle('FURNITURE (ALUMINIUM) - Alu/Iron Tripod Rd Table'))\n",
        "\n",
        "print(noise_kaggle('FURNITURE (ALUMINIUM) - Alu/Iron Tripod Rd Table', 0))\n",
        "print(noise_kaggle('FURNITURE (ALUMINIUM) - Alu/Iron Tripod Rd Table', 1))\n",
        "print(noise_kaggle('FURNITURE (ALUMINIUM) - Alu/Iron Tripod Rd Table', 2))\n",
        "print(noise_kaggle('FURNITURE (ALUMINIUM) - Alu/Iron Tripod Rd Table', 3))\n",
        "print(noise_kaggle('FURNITURE (ALUMINIUM) - Alu/Iron Tripod Rd Table', 4))"
      ],
      "execution_count": null,
      "outputs": [
        {
          "output_type": "stream",
          "text": [
            "FURNITURE (ALUMINIUM) - Alu/Iron Tripod Rd tabel\n",
            "FURNITURE (ALUMINIUM) - Alu/Iron Tripod Rd tabl\n",
            "FURNITURE (ALUMINIUM) - Alu/Iron Tripod Rd tabel\n",
            "FURNITURE (ALUMINIUM) - Alu/Iron Tripod Rd tabl\n",
            "FURNITURE (ALUMINIUM) - Alu/Iron Tripod Rd tasble\n",
            "FURNITURE (ALUMINIUM) - Alu/Iron Tripod Rd Table\n",
            "FURNITURE (ALUMINIUM) - Alu/Iron Tripod Rd Table\n",
            "FURNITURE (ALUMINIUM) - Alu/Iron Tripod Rd Table\n",
            "FURNITURE (ALUMINIUM) - Alu/Iron Tripod Rd tabel\n",
            "FURNITURE (ALUMINIUM) - Alu/Iron Tripod Rd tabel\n"
          ],
          "name": "stdout"
        }
      ]
    },
    {
      "cell_type": "code",
      "metadata": {
        "colab": {
          "base_uri": "https://localhost:8080/"
        },
        "id": "KdjN5vhHufHU",
        "outputId": "e2af1722-3939-4992-fe5b-eb0084458ff8"
      },
      "source": [
        "#Function that returns a noised description\n",
        "\n",
        "def noise_description(description, del_freq = 1, switch_freq = 1):\n",
        "  return(noise_kaggle(noise_switch(noise_deletion(description, del_freq),switch_freq)))\n",
        "\n",
        "#Example\n",
        "print(noise_description('FURNITURE (ALUMINIUM) - Alu/Iron Tripod Rd Table'))\n",
        "print(noise_description('FURNITURE (ALUMINIUM) - Alu/Iron Tripod Rd Table'))\n",
        "print(noise_description('FURNITURE (ALUMINIUM) - Alu/Iron Tripod Rd Table'))\n",
        "print(noise_description('FURNITURE (ALUMINIUM) - Alu/Iron Tripod Rd Table'))\n",
        "print(noise_description('FURNITURE (ALUMINIUM) - Alu/Iron Tripod Rd Table'))\n",
        "print(noise_description('READYMADE GARMENTS BOYS INFANT F/S SUIT 100% COTTON STYLE NO. 41156 SIZE 0 TO 24 MONTS (PURPLE CEATION GSTIN 27AAAC'))\n",
        "print(noise_description('READYMADE GARMENTS BOYS INFANT F/S SUIT 100% COTTON STYLE NO. 41156 SIZE 0 TO 24 MONTS (PURPLE CEATION GSTIN 27AAAC'))\n",
        "print(noise_description('READYMADE GARMENTS BOYS INFANT F/S SUIT 100% COTTON STYLE NO. 41156 SIZE 0 TO 24 MONTS (PURPLE CEATION GSTIN 27AAAC'))\n",
        "print(noise_description('READYMADE GARMENTS BOYS INFANT F/S SUIT 100% COTTON STYLE NO. 41156 SIZE 0 TO 24 MONTS (PURPLE CEATION GSTIN 27AAAC'))\n",
        "print(noise_description('READYMADE GARMENTS BOYS INFANT F/S SUIT 100% COTTON STYLE NO. 41156 SIZE 0 TO 24 MONTS (PURPLE CEATION GSTIN 27AAAC'))"
      ],
      "execution_count": null,
      "outputs": [
        {
          "output_type": "stream",
          "text": [
            "FURNITURE (ALUINIUM)- Alu/Iron Tripod Rd tabel\n",
            "FURNITUER (ALUMINIUM) - Alu/Iron ripod Rd tasble\n",
            "FURNITURE (ALUMINIUM) - Alu/Iron Tripod R dTble\n",
            "FURNITURE (ALUINIUM)- Alu/Iron Tripod Rd tabel\n",
            "FURNITURE (ALUMIIUM) - Alu/Iron Tripod dR tabl\n",
            "READYMADE GARMENTS boyes enfant F/S sute 100% cotten stile NO. 41156 sise 0 tow 2 MONTS (PUPRLE CEATION GSTIN 27AAAC\n",
            "READYMADE GARMENTS boy enfant F/S suite 100% cotten STYL N.O 41156 sise 0 the 24 MONTS (PURPLE CEATION GSTIN 27AAAC\n",
            "READYMADE GRMENTS boy INFAN TF/S suite 100% cotten stile NO. 41156 sise 0 ot 24 MONTS (PURPLE CEATION GSTIN 27AAAC\n",
            "READYMAD GARMENTS boyes enfant F/S sute 100% cotten stile NO. 41156 sixze 0 ro 24 MONTS( pulper CEATION GSTIN 27AAAC\n",
            "READYMADE GARMENTS boyes enfant F/S sute 100% cotten STYL NO. 41156 sise 0 OT 24 MONTS (PURPLE CEATION GSTIN 27AAAC\n"
          ],
          "name": "stdout"
        }
      ]
    },
    {
      "cell_type": "code",
      "metadata": {
        "colab": {
          "base_uri": "https://localhost:8080/"
        },
        "id": "dckmrJ8uhxDm",
        "outputId": "91a20c7a-03c8-48f7-e0af-efccf6fc55cd"
      },
      "source": [
        "def random_noise_description(description):\n",
        "  freqs = [random.randrange(len(description.split())), random.randrange(2), random.randrange(2)]\n",
        "  #print(freqs)\n",
        "  noised_description = noise_kaggle(description, frequency = freqs[0])\n",
        "  noised_description = noise_switch(noised_description, frequency = freqs[1])\n",
        "  noised_description = noise_deletion(noised_description, frequency = freqs[2])\n",
        "  return noised_description\n",
        "\n",
        "#Example  \n",
        "print(random_noise_description('FURNITURE (ALUMINIUM) - Alu/Iron Tripod Rd Table'))\n",
        "print(random_noise_description('FURNITURE (ALUMINIUM) - Alu/Iron Tripod Rd Table'))\n",
        "print(random_noise_description('FURNITURE (ALUMINIUM) - Alu/Iron Tripod Rd Table'))\n",
        "print(random_noise_description('FURNITURE (ALUMINIUM) - Alu/Iron Tripod Rd Table'))\n",
        "print(random_noise_description('FURNITURE (ALUMINIUM) - Alu/Iron Tripod Rd Table'))\n",
        "print(random_noise_description('READYMADE GARMENTS BOYS INFANT F/S SUIT 100% COTTON STYLE NO. 41156 SIZE 0 TO 24 MONTS (PURPLE CEATION GSTIN 27AAAC'))\n",
        "print(random_noise_description('READYMADE GARMENTS BOYS INFANT F/S SUIT 100% COTTON STYLE NO. 41156 SIZE 0 TO 24 MONTS (PURPLE CEATION GSTIN 27AAAC'))\n",
        "print(random_noise_description('READYMADE GARMENTS BOYS INFANT F/S SUIT 100% COTTON STYLE NO. 41156 SIZE 0 TO 24 MONTS (PURPLE CEATION GSTIN 27AAAC'))\n",
        "print(random_noise_description('READYMADE GARMENTS BOYS INFANT F/S SUIT 100% COTTON STYLE NO. 41156 SIZE 0 TO 24 MONTS (PURPLE CEATION GSTIN 27AAAC'))\n",
        "print(random_noise_description('READYMADE GARMENTS BOYS INFANT F/S SUIT 100% COTTON STYLE NO. 41156 SIZE 0 TO 24 MONTS (PURPLE CEATION GSTIN 27AAAC'))\n",
        "\n",
        "\n",
        "print(random_noise_description('cotton woven mens coat'))\n",
        "print(random_noise_description('cotton woven mens coat'))\n",
        "print(random_noise_description('cotton woven mens coat'))\n",
        "print(random_noise_description('cotton woven mens coat'))\n",
        "print(random_noise_description('cotton woven mens coat'))\n",
        "print(random_noise_description('cotton woven mens coat'))"
      ],
      "execution_count": null,
      "outputs": [
        {
          "output_type": "stream",
          "text": [
            "FURNITURE (ALUMINIUM) - Alu/Iron Tripod Rd bale\n",
            "FURNITURE (ALUMINIUM) - Alu/Iron Tripod Rd Table\n",
            "FURNITURE (ALUMINIUM) - Alu/Iron Tripod Rd Table\n",
            "FURNITURE (ALUMINIUM) - Alu/Iron Tripod Rd Table\n",
            "FURINTURE (ALUMINIUM) - Alu/Iron Tripod Rd Table\n",
            "READYMADE GARMENTS boyes enfant F/S SUIT 100% cotten stile NO. 41156 sixze 0 ro 24 MONTS (PURPLE CEATION GSTIN 27ACA\n",
            "READYMADE GARMENTS boy INFANT F/S suite 100% cotten STYLE NO. 41156 SIZE 0 of 24 MONTS (PURPLE CEATION GSTIN 27AAAC\n",
            "READYMADE GARMENTS boyes enfant F/S suite 100% cotten STYLE NO. 4116 sise 0 th 24 MONTS (PURPLE CEATION GSTIN 27AAAC\n",
            "READYMADE GARMENTS boyes enfant F/S SUIT 100% cotten stile NO. 41156 sixze 0 two 24 MONTS (PURPLE CEATON GSTIN 27AAAC\n",
            "READYMADE GARMENTS BOYS INFANT F/S SUIT 100% COTTON STYL NO. 41156 SIZE 0 TO 24 MONTS (PURPLE CEATION GSTIN 27AAAC\n",
            "cotton wove nmens ct\n",
            "cotto nwoven mens coat\n",
            "cotten owven mens coat\n",
            "coton woven mens coat\n",
            "cotetn woven mens coat\n",
            "cotton woven mens coat\n"
          ],
          "name": "stdout"
        }
      ]
    },
    {
      "cell_type": "markdown",
      "metadata": {
        "id": "tPxZuufgGMSj"
      },
      "source": [
        "#Noised training dataset\n",
        "\n",
        "The noised descriptions are data augmentations for the existing descriptions. Also they provide more stable typo-correct word pairings."
      ]
    },
    {
      "cell_type": "code",
      "metadata": {
        "id": "tBj-arYQGL4k"
      },
      "source": [
        "import pandas as pd\n",
        "\n",
        "noised901_1 = pd.DataFrame(train901, columns = ['uuid', 'origin_id', 'description', 'cleaned_description', 'hs_code', 'origin', 'invalidated', 'imported_at']) \n",
        "noised901_1 = noised901_1[noised901_1['description'].notna()]\n",
        "noised901_2 = noised901_1.copy(deep=True)\n",
        "noised901_3 = noised901_1.copy(deep=True)\n",
        "noised901_4 = noised901_1.copy(deep=True)\n",
        "\n",
        "noised901_2['description'] = noised901_1['cleaned_description']\n",
        "\n",
        "noised901_3['description'] = noised901_3['description'].apply(noise_description)\n",
        "\n",
        "noised901_4['description'] = noised901_4['cleaned_description'].apply(noise_description)\n",
        "\n",
        "print(noised901_1.shape,noised901_2.shape,noised901_3.shape,noised901_4.shape)"
      ],
      "execution_count": null,
      "outputs": []
    },
    {
      "cell_type": "code",
      "metadata": {
        "colab": {
          "base_uri": "https://localhost:8080/"
        },
        "id": "wXMO2XuRSXnC",
        "outputId": "6903df5e-500b-4f27-e403-0ae885e900f8"
      },
      "source": [
        "noised901 = pd.concat([noised901_1,noised901_2,noised901_3,noised901_4], axis=0)\n",
        "print(noised901.shape)"
      ],
      "execution_count": null,
      "outputs": [
        {
          "output_type": "stream",
          "text": [
            "(737916, 8)\n"
          ],
          "name": "stdout"
        }
      ]
    },
    {
      "cell_type": "code",
      "metadata": {
        "id": "q_Nk7MedTSxl"
      },
      "source": [
        "import pandas as pd\n",
        "\n",
        "rng_noised901 = pd.DataFrame(sample901, columns = ['uuid', 'origin_id', 'description', 'rasul_cleaned_description', 'hs_code', 'cleaned_description', 'noised_description']) "
      ],
      "execution_count": null,
      "outputs": []
    },
    {
      "cell_type": "code",
      "metadata": {
        "colab": {
          "base_uri": "https://localhost:8080/",
          "height": 340
        },
        "id": "oP32zG1M2J67",
        "outputId": "7f8150cd-90e4-4d18-db5f-21167bce5c8b"
      },
      "source": [
        "rng_noised901.head()"
      ],
      "execution_count": null,
      "outputs": [
        {
          "output_type": "execute_result",
          "data": {
            "text/html": [
              "<div>\n",
              "<style scoped>\n",
              "    .dataframe tbody tr th:only-of-type {\n",
              "        vertical-align: middle;\n",
              "    }\n",
              "\n",
              "    .dataframe tbody tr th {\n",
              "        vertical-align: top;\n",
              "    }\n",
              "\n",
              "    .dataframe thead th {\n",
              "        text-align: right;\n",
              "    }\n",
              "</style>\n",
              "<table border=\"1\" class=\"dataframe\">\n",
              "  <thead>\n",
              "    <tr style=\"text-align: right;\">\n",
              "      <th></th>\n",
              "      <th>uuid</th>\n",
              "      <th>origin_id</th>\n",
              "      <th>description</th>\n",
              "      <th>rasul_cleaned_description</th>\n",
              "      <th>hs_code</th>\n",
              "      <th>cleaned_description</th>\n",
              "      <th>noised_description</th>\n",
              "    </tr>\n",
              "  </thead>\n",
              "  <tbody>\n",
              "    <tr>\n",
              "      <th>0</th>\n",
              "      <td>890abe46-f7a3-4054-b88e-88f1a1b153e7</td>\n",
              "      <td>1985872</td>\n",
              "      <td>CERAMIC HARDWARE :   40MM PORCELAIN FLOW ER KN...</td>\n",
              "      <td>ceramic hardware porcelain flower knob white m...</td>\n",
              "      <td>6914100000</td>\n",
              "      <td>ceramic hardware mm porcelain flow er knob whi...</td>\n",
              "      <td>ceramic hardwear mm porcelian flow r knob wite...</td>\n",
              "    </tr>\n",
              "    <tr>\n",
              "      <th>1</th>\n",
              "      <td>c02296c5-8b30-4215-8c80-826ea61c7c03</td>\n",
              "      <td>358953</td>\n",
              "      <td>READYMADE GARMENTS - 100% COTTON  WOVEN P/L LA...</td>\n",
              "      <td>readymadegarments cottonwoven ladies dress</td>\n",
              "      <td>6204420090</td>\n",
              "      <td>readymade garments cotton woven p l ladies dress</td>\n",
              "      <td>readymade garmet scotton woven p l adies dres</td>\n",
              "    </tr>\n",
              "    <tr>\n",
              "      <th>2</th>\n",
              "      <td>e3ac9e71-96f6-42ea-a213-10a3877df4f1</td>\n",
              "      <td>1543075</td>\n",
              "      <td>SPARE PARTS-- (LIGHT ACC)(1.7 KGS)</td>\n",
              "      <td>spareparts light acc kgs</td>\n",
              "      <td>9405990090</td>\n",
              "      <td>spare parts light acc kgs</td>\n",
              "      <td>pare parts ligth acc kgs</td>\n",
              "    </tr>\n",
              "    <tr>\n",
              "      <th>3</th>\n",
              "      <td>8c308910-e5cb-4943-b70d-67cfed4e2a82</td>\n",
              "      <td>662266</td>\n",
              "      <td>STYLISH KID S COTTON SPANDEX CLOTHING SET</td>\n",
              "      <td>stylish kid cotton spandex clothing set</td>\n",
              "      <td>6204228090</td>\n",
              "      <td>stylish kid s cotton spandex clothing set</td>\n",
              "      <td>stylis kid s cotten spandex clotihng sat</td>\n",
              "    </tr>\n",
              "    <tr>\n",
              "      <th>4</th>\n",
              "      <td>23691adb-cf44-4e9a-8111-1a1e408a50b9</td>\n",
              "      <td>1833319</td>\n",
              "      <td>BRAKE FRICTION PLATE (PART NO. AC-738) (TRACTO...</td>\n",
              "      <td>brake friction plate part tractor parts</td>\n",
              "      <td>8708309990</td>\n",
              "      <td>brake friction plate part no ac tractor parts</td>\n",
              "      <td>brakke frictin blate pard on ac tracto rparts</td>\n",
              "    </tr>\n",
              "  </tbody>\n",
              "</table>\n",
              "</div>"
            ],
            "text/plain": [
              "                                   uuid  ...                                 noised_description\n",
              "0  890abe46-f7a3-4054-b88e-88f1a1b153e7  ...  ceramic hardwear mm porcelian flow r knob wite...\n",
              "1  c02296c5-8b30-4215-8c80-826ea61c7c03  ...      readymade garmet scotton woven p l adies dres\n",
              "2  e3ac9e71-96f6-42ea-a213-10a3877df4f1  ...                           pare parts ligth acc kgs\n",
              "3  8c308910-e5cb-4943-b70d-67cfed4e2a82  ...           stylis kid s cotten spandex clotihng sat\n",
              "4  23691adb-cf44-4e9a-8111-1a1e408a50b9  ...      brakke frictin blate pard on ac tracto rparts\n",
              "\n",
              "[5 rows x 7 columns]"
            ]
          },
          "metadata": {
            "tags": []
          },
          "execution_count": 21
        }
      ]
    },
    {
      "cell_type": "code",
      "metadata": {
        "id": "Uc_iPgCZ2Oge"
      },
      "source": [
        "rng_noised901['noised_description'] = rng_noised901['cleaned_description'].apply(random_noise_description)"
      ],
      "execution_count": null,
      "outputs": []
    },
    {
      "cell_type": "code",
      "metadata": {
        "colab": {
          "base_uri": "https://localhost:8080/",
          "height": 340
        },
        "id": "WMTx3Jgj37fb",
        "outputId": "eab11e49-e454-4096-b6cc-d96b9348ee61"
      },
      "source": [
        "rng_noised901.head()"
      ],
      "execution_count": null,
      "outputs": [
        {
          "output_type": "execute_result",
          "data": {
            "text/html": [
              "<div>\n",
              "<style scoped>\n",
              "    .dataframe tbody tr th:only-of-type {\n",
              "        vertical-align: middle;\n",
              "    }\n",
              "\n",
              "    .dataframe tbody tr th {\n",
              "        vertical-align: top;\n",
              "    }\n",
              "\n",
              "    .dataframe thead th {\n",
              "        text-align: right;\n",
              "    }\n",
              "</style>\n",
              "<table border=\"1\" class=\"dataframe\">\n",
              "  <thead>\n",
              "    <tr style=\"text-align: right;\">\n",
              "      <th></th>\n",
              "      <th>uuid</th>\n",
              "      <th>origin_id</th>\n",
              "      <th>description</th>\n",
              "      <th>rasul_cleaned_description</th>\n",
              "      <th>hs_code</th>\n",
              "      <th>cleaned_description</th>\n",
              "      <th>noised_description</th>\n",
              "    </tr>\n",
              "  </thead>\n",
              "  <tbody>\n",
              "    <tr>\n",
              "      <th>0</th>\n",
              "      <td>890abe46-f7a3-4054-b88e-88f1a1b153e7</td>\n",
              "      <td>1985872</td>\n",
              "      <td>CERAMIC HARDWARE :   40MM PORCELAIN FLOW ER KN...</td>\n",
              "      <td>ceramic hardware porcelain flower knob white m...</td>\n",
              "      <td>6914100000</td>\n",
              "      <td>ceramic hardware mm porcelain flow er knob whi...</td>\n",
              "      <td>ceramic hardwear mm porcelain flow er knob whi...</td>\n",
              "    </tr>\n",
              "    <tr>\n",
              "      <th>1</th>\n",
              "      <td>c02296c5-8b30-4215-8c80-826ea61c7c03</td>\n",
              "      <td>358953</td>\n",
              "      <td>READYMADE GARMENTS - 100% COTTON  WOVEN P/L LA...</td>\n",
              "      <td>readymadegarments cottonwoven ladies dress</td>\n",
              "      <td>6204420090</td>\n",
              "      <td>readymade garments cotton woven p l ladies dress</td>\n",
              "      <td>readymade garments cotton woven p l ladies dress</td>\n",
              "    </tr>\n",
              "    <tr>\n",
              "      <th>2</th>\n",
              "      <td>e3ac9e71-96f6-42ea-a213-10a3877df4f1</td>\n",
              "      <td>1543075</td>\n",
              "      <td>SPARE PARTS-- (LIGHT ACC)(1.7 KGS)</td>\n",
              "      <td>spareparts light acc kgs</td>\n",
              "      <td>9405990090</td>\n",
              "      <td>spare parts light acc kgs</td>\n",
              "      <td>ster parts ight acc kgs</td>\n",
              "    </tr>\n",
              "    <tr>\n",
              "      <th>3</th>\n",
              "      <td>8c308910-e5cb-4943-b70d-67cfed4e2a82</td>\n",
              "      <td>662266</td>\n",
              "      <td>STYLISH KID S COTTON SPANDEX CLOTHING SET</td>\n",
              "      <td>stylish kid cotton spandex clothing set</td>\n",
              "      <td>6204228090</td>\n",
              "      <td>stylish kid s cotton spandex clothing set</td>\n",
              "      <td>stylish kid s cotton spandex clothing set</td>\n",
              "    </tr>\n",
              "    <tr>\n",
              "      <th>4</th>\n",
              "      <td>23691adb-cf44-4e9a-8111-1a1e408a50b9</td>\n",
              "      <td>1833319</td>\n",
              "      <td>BRAKE FRICTION PLATE (PART NO. AC-738) (TRACTO...</td>\n",
              "      <td>brake friction plate part tractor parts</td>\n",
              "      <td>8708309990</td>\n",
              "      <td>brake friction plate part no ac tractor parts</td>\n",
              "      <td>brake friction plate art no ac tractor parts</td>\n",
              "    </tr>\n",
              "  </tbody>\n",
              "</table>\n",
              "</div>"
            ],
            "text/plain": [
              "                                   uuid  ...                                 noised_description\n",
              "0  890abe46-f7a3-4054-b88e-88f1a1b153e7  ...  ceramic hardwear mm porcelain flow er knob whi...\n",
              "1  c02296c5-8b30-4215-8c80-826ea61c7c03  ...   readymade garments cotton woven p l ladies dress\n",
              "2  e3ac9e71-96f6-42ea-a213-10a3877df4f1  ...                            ster parts ight acc kgs\n",
              "3  8c308910-e5cb-4943-b70d-67cfed4e2a82  ...          stylish kid s cotton spandex clothing set\n",
              "4  23691adb-cf44-4e9a-8111-1a1e408a50b9  ...       brake friction plate art no ac tractor parts\n",
              "\n",
              "[5 rows x 7 columns]"
            ]
          },
          "metadata": {
            "tags": []
          },
          "execution_count": 23
        }
      ]
    },
    {
      "cell_type": "code",
      "metadata": {
        "colab": {
          "base_uri": "https://localhost:8080/"
        },
        "id": "Fg9OrOal398Q",
        "outputId": "6afb8453-a198-4766-ad63-a6a36b19fead"
      },
      "source": [
        "rng_noised901.shape"
      ],
      "execution_count": null,
      "outputs": [
        {
          "output_type": "execute_result",
          "data": {
            "text/plain": [
              "(15058, 7)"
            ]
          },
          "metadata": {
            "tags": []
          },
          "execution_count": 24
        }
      ]
    },
    {
      "cell_type": "code",
      "metadata": {
        "colab": {
          "base_uri": "https://localhost:8080/",
          "height": 306
        },
        "id": "fmBQaYeN3BNx",
        "outputId": "698d2eb8-28df-4caf-df96-e68e8ebd8801"
      },
      "source": [
        "rng_noised901_2 = rng_noised901.copy(deep=True)\n",
        "rng_noised901_2['noised_description'] = rng_noised901_2['cleaned_description']\n",
        "rng_noised901 = pd.concat([rng_noised901,rng_noised901_2], axis=0)\n",
        "\n",
        "rng_noised901.head()"
      ],
      "execution_count": null,
      "outputs": [
        {
          "output_type": "execute_result",
          "data": {
            "text/html": [
              "<div>\n",
              "<style scoped>\n",
              "    .dataframe tbody tr th:only-of-type {\n",
              "        vertical-align: middle;\n",
              "    }\n",
              "\n",
              "    .dataframe tbody tr th {\n",
              "        vertical-align: top;\n",
              "    }\n",
              "\n",
              "    .dataframe thead th {\n",
              "        text-align: right;\n",
              "    }\n",
              "</style>\n",
              "<table border=\"1\" class=\"dataframe\">\n",
              "  <thead>\n",
              "    <tr style=\"text-align: right;\">\n",
              "      <th></th>\n",
              "      <th>uuid</th>\n",
              "      <th>origin_id</th>\n",
              "      <th>description</th>\n",
              "      <th>rasul_cleaned_description</th>\n",
              "      <th>hs_code</th>\n",
              "      <th>cleaned_description</th>\n",
              "      <th>noised_description</th>\n",
              "    </tr>\n",
              "  </thead>\n",
              "  <tbody>\n",
              "    <tr>\n",
              "      <th>0</th>\n",
              "      <td>a68d46ce-7d18-473b-94ea-d8e893c2c1bc</td>\n",
              "      <td>546647</td>\n",
              "      <td>100% COTTON WOVEN MENS COAT</td>\n",
              "      <td>cottonwoven mens coat</td>\n",
              "      <td>6201190000</td>\n",
              "      <td>cotton woven mens coat</td>\n",
              "      <td>cotte nwoven mens cot</td>\n",
              "    </tr>\n",
              "    <tr>\n",
              "      <th>1</th>\n",
              "      <td>ba263c49-82c9-41c0-872d-70e82138b840</td>\n",
              "      <td>1058388</td>\n",
              "      <td>PISTON - 11.03455-4274 [COMPONENTS FOR MARINE ...</td>\n",
              "      <td>piston components marine diesel engine</td>\n",
              "      <td>8409990090</td>\n",
              "      <td>piston components for marine diesel engine</td>\n",
              "      <td>piston componnts for marine diesel engnie</td>\n",
              "    </tr>\n",
              "    <tr>\n",
              "      <th>2</th>\n",
              "      <td>f0992bf1-f7c9-4b5e-acb0-53c000b8babe</td>\n",
              "      <td>1153247</td>\n",
              "      <td>SPARE PARTS FOR EXCAVATOR - PIPEFUEL,FUEL FILT...</td>\n",
              "      <td>spareparts excavator pipe fuel fuel filter lea...</td>\n",
              "      <td>8431498000</td>\n",
              "      <td>spare parts for excavator pipefuel fuel filter...</td>\n",
              "      <td>spare parts for excavator pipefuel fl filter l...</td>\n",
              "    </tr>\n",
              "    <tr>\n",
              "      <th>3</th>\n",
              "      <td>66ae8795-e482-483b-bea2-6d0b869c3059</td>\n",
              "      <td>1775737</td>\n",
              "      <td>Parts Of Automobile Steering System: P. S. G. ...</td>\n",
              "      <td>parts automobile steering system box bar order...</td>\n",
              "      <td>8708949900</td>\n",
              "      <td>parts of automobile steering system p s g box ...</td>\n",
              "      <td>parts of automobile steering syste p s g bax r...</td>\n",
              "    </tr>\n",
              "    <tr>\n",
              "      <th>4</th>\n",
              "      <td>af91342f-af2d-4a92-9fee-dfe62a69e475</td>\n",
              "      <td>1823954</td>\n",
              "      <td>AUTO SPARE PARTS PANEL ASSY-FRONT DOOR,R</td>\n",
              "      <td>autospareparts panel assy frontdoor</td>\n",
              "      <td>8708999790</td>\n",
              "      <td>auto spare parts panel assy front door r</td>\n",
              "      <td>outo esr parts panel assy front do r</td>\n",
              "    </tr>\n",
              "  </tbody>\n",
              "</table>\n",
              "</div>"
            ],
            "text/plain": [
              "                                   uuid  ...                                 noised_description\n",
              "0  a68d46ce-7d18-473b-94ea-d8e893c2c1bc  ...                              cotte nwoven mens cot\n",
              "1  ba263c49-82c9-41c0-872d-70e82138b840  ...          piston componnts for marine diesel engnie\n",
              "2  f0992bf1-f7c9-4b5e-acb0-53c000b8babe  ...  spare parts for excavator pipefuel fl filter l...\n",
              "3  66ae8795-e482-483b-bea2-6d0b869c3059  ...  parts of automobile steering syste p s g bax r...\n",
              "4  af91342f-af2d-4a92-9fee-dfe62a69e475  ...               outo esr parts panel assy front do r\n",
              "\n",
              "[5 rows x 7 columns]"
            ]
          },
          "metadata": {
            "tags": []
          },
          "execution_count": 73
        }
      ]
    },
    {
      "cell_type": "code",
      "metadata": {
        "colab": {
          "base_uri": "https://localhost:8080/"
        },
        "id": "3_Vy4ywk4APV",
        "outputId": "74995f7f-9108-46a2-ba8f-fec8e22779e2"
      },
      "source": [
        "rng_noised901.shape"
      ],
      "execution_count": null,
      "outputs": [
        {
          "output_type": "execute_result",
          "data": {
            "text/plain": [
              "(4253596, 7)"
            ]
          },
          "metadata": {
            "tags": []
          },
          "execution_count": 74
        }
      ]
    },
    {
      "cell_type": "code",
      "metadata": {
        "id": "1Yl_2nFA46QL"
      },
      "source": [
        "rng_noised901 = rng_noised901.sample(frac = 1)"
      ],
      "execution_count": null,
      "outputs": []
    },
    {
      "cell_type": "code",
      "metadata": {
        "colab": {
          "base_uri": "https://localhost:8080/"
        },
        "id": "jkF-iLJ_5J6r",
        "outputId": "66b9977e-b9f5-4432-e62d-2051114bda6c"
      },
      "source": [
        "rng_noised901.shape"
      ],
      "execution_count": null,
      "outputs": [
        {
          "output_type": "execute_result",
          "data": {
            "text/plain": [
              "(4253596, 7)"
            ]
          },
          "metadata": {
            "tags": []
          },
          "execution_count": 76
        }
      ]
    },
    {
      "cell_type": "code",
      "metadata": {
        "colab": {
          "base_uri": "https://localhost:8080/",
          "height": 323
        },
        "id": "qxu0ylCz5LVs",
        "outputId": "b997689f-a087-4065-de85-239f092753d2"
      },
      "source": [
        "rng_noised901.head()"
      ],
      "execution_count": null,
      "outputs": [
        {
          "output_type": "execute_result",
          "data": {
            "text/html": [
              "<div>\n",
              "<style scoped>\n",
              "    .dataframe tbody tr th:only-of-type {\n",
              "        vertical-align: middle;\n",
              "    }\n",
              "\n",
              "    .dataframe tbody tr th {\n",
              "        vertical-align: top;\n",
              "    }\n",
              "\n",
              "    .dataframe thead th {\n",
              "        text-align: right;\n",
              "    }\n",
              "</style>\n",
              "<table border=\"1\" class=\"dataframe\">\n",
              "  <thead>\n",
              "    <tr style=\"text-align: right;\">\n",
              "      <th></th>\n",
              "      <th>uuid</th>\n",
              "      <th>origin_id</th>\n",
              "      <th>description</th>\n",
              "      <th>rasul_cleaned_description</th>\n",
              "      <th>hs_code</th>\n",
              "      <th>cleaned_description</th>\n",
              "      <th>noised_description</th>\n",
              "    </tr>\n",
              "  </thead>\n",
              "  <tbody>\n",
              "    <tr>\n",
              "      <th>136931</th>\n",
              "      <td>1124409f-47dd-4f51-a759-d44c2e7b4b18</td>\n",
              "      <td>1665424</td>\n",
              "      <td>EMPTY HOUSING FOR PANEL 12W SQ / RING / BOTTOM...</td>\n",
              "      <td>empty housing panel ring bottom set</td>\n",
              "      <td>9405990090</td>\n",
              "      <td>empty housing for panel w sq ring bottom set</td>\n",
              "      <td>empty housing for panel w sq ring bottom set</td>\n",
              "    </tr>\n",
              "    <tr>\n",
              "      <th>864751</th>\n",
              "      <td>e414757c-5277-4b9c-908a-8ea4a78baf40</td>\n",
              "      <td>1781139</td>\n",
              "      <td>PARTS FOR AGRICULTURAL TRACTORS -CONTROL VALVE...</td>\n",
              "      <td>parts agricultural tractors control valve slee...</td>\n",
              "      <td>8708999790</td>\n",
              "      <td>parts for agricultural tractors control valve ...</td>\n",
              "      <td>parts fre agricultura tractosr contioll valve ...</td>\n",
              "    </tr>\n",
              "    <tr>\n",
              "      <th>553431</th>\n",
              "      <td>36a555c6-2520-4385-a14d-d777205d83f7</td>\n",
              "      <td>153413</td>\n",
              "      <td>SUIT CASE MADE OF PP WITHOUT ALUMINIUM F RAME ...</td>\n",
              "      <td>suitcase made without aluminium rame samsonite...</td>\n",
              "      <td>4202129990</td>\n",
              "      <td>suit case made of pp without aluminium f rame ...</td>\n",
              "      <td>suit case made of pp without aluminium f rame ...</td>\n",
              "    </tr>\n",
              "    <tr>\n",
              "      <th>2112376</th>\n",
              "      <td>f4e04f9e-7440-42a9-9ee7-d540eed0669c</td>\n",
              "      <td>1108865</td>\n",
              "      <td>THRUST BALL BEARING, 51128 (NET WEIGHT 1.850 K...</td>\n",
              "      <td>thrust ball bearing net weight for ndustrial use</td>\n",
              "      <td>8482109090</td>\n",
              "      <td>thrust ball bearing net weight kgs pcs for i n...</td>\n",
              "      <td>thrust boll bearing net weght kgs pcs for i nd...</td>\n",
              "    </tr>\n",
              "    <tr>\n",
              "      <th>1961397</th>\n",
              "      <td>19729e15-c3f9-4f67-b92a-6b45da1de48d</td>\n",
              "      <td>1811336</td>\n",
              "      <td>AUTO PARTS - RING GEAR</td>\n",
              "      <td>autoparts ring gear</td>\n",
              "      <td>8708999790</td>\n",
              "      <td>auto parts ring gear</td>\n",
              "      <td>ato parst ringgear</td>\n",
              "    </tr>\n",
              "  </tbody>\n",
              "</table>\n",
              "</div>"
            ],
            "text/plain": [
              "                                         uuid  ...                                 noised_description\n",
              "136931   1124409f-47dd-4f51-a759-d44c2e7b4b18  ...       empty housing for panel w sq ring bottom set\n",
              "864751   e414757c-5277-4b9c-908a-8ea4a78baf40  ...  parts fre agricultura tractosr contioll valve ...\n",
              "553431   36a555c6-2520-4385-a14d-d777205d83f7  ...  suit case made of pp without aluminium f rame ...\n",
              "2112376  f4e04f9e-7440-42a9-9ee7-d540eed0669c  ...  thrust boll bearing net weght kgs pcs for i nd...\n",
              "1961397  19729e15-c3f9-4f67-b92a-6b45da1de48d  ...                                 ato parst ringgear\n",
              "\n",
              "[5 rows x 7 columns]"
            ]
          },
          "metadata": {
            "tags": []
          },
          "execution_count": 77
        }
      ]
    },
    {
      "cell_type": "code",
      "metadata": {
        "id": "VcoPc_iu4GU3"
      },
      "source": [
        "rng_noised901.to_csv(index=False)"
      ],
      "execution_count": null,
      "outputs": []
    }
  ]
}